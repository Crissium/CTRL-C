{
 "cells": [
  {
   "cell_type": "code",
   "execution_count": 2,
   "id": "modular-witness",
   "metadata": {},
   "outputs": [],
   "source": [
    "import sys\n",
    "import os\n",
    "import os.path as osp\n",
    "\n",
    "import numpy as np\n",
    "import cv2\n",
    "import matplotlib.pyplot as plt\n",
    "import csv\n",
    "import argparse\n",
    "import scipy.io as sio\n",
    "import glob\n",
    "\n",
    "import torch\n",
    "from torch.utils import data\n",
    "import torch.nn.functional as F\n",
    "\n",
    "import datasets\n",
    "from datasets import build_yud_dataset\n",
    "import util.misc as utils\n",
    "from config import cfg"
   ]
  },
  {
   "cell_type": "code",
   "execution_count": 3,
   "id": "stopped-poison",
   "metadata": {},
   "outputs": [],
   "source": [
    "basepath = '/data/project/rw/yud_gt/'"
   ]
  },
  {
   "cell_type": "code",
   "execution_count": 6,
   "id": "worse-candidate",
   "metadata": {},
   "outputs": [],
   "source": [
    "filelist = glob.glob(osp.join(basepath, '*.jpg'))"
   ]
  },
  {
   "cell_type": "code",
   "execution_count": 10,
   "id": "preceding-dining",
   "metadata": {},
   "outputs": [
    {
     "name": "stdout",
     "output_type": "stream",
     "text": [
      "{'__header__': b'MATLAB 5.0 MAT-file, Platform: PCWIN, Created on: Fri Feb 11 17:15:23 2011', '__version__': '1.0', '__globals__': [], 'zenith': array([[  182.71241919, 14229.09694097]])}\n"
     ]
    }
   ],
   "source": [
    "filename = filelist[0]\n",
    "mat = sio.loadmat(filename.replace('.jpg','zen.mat'))\n",
    "print(mat)"
   ]
  },
  {
   "cell_type": "code",
   "execution_count": null,
   "id": "congressional-block",
   "metadata": {},
   "outputs": [],
   "source": []
  }
 ],
 "metadata": {
  "kernelspec": {
   "display_name": "Python 3",
   "language": "python",
   "name": "python3"
  },
  "language_info": {
   "codemirror_mode": {
    "name": "ipython",
    "version": 3
   },
   "file_extension": ".py",
   "mimetype": "text/x-python",
   "name": "python",
   "nbconvert_exporter": "python",
   "pygments_lexer": "ipython3",
   "version": "3.8.3"
  }
 },
 "nbformat": 4,
 "nbformat_minor": 5
}
