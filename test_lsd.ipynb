{
 "cells": [
  {
   "cell_type": "code",
   "execution_count": 8,
   "id": "certified-aspect",
   "metadata": {},
   "outputs": [],
   "source": [
    "import sys\n",
    "import os\n",
    "import os.path as osp\n",
    "import glob\n",
    "\n",
    "import numpy as np\n",
    "import cv2\n",
    "import matplotlib.pyplot as plt\n",
    "import csv\n",
    "from tqdm import tqdm\n",
    "\n",
    "from pylsd import lsd"
   ]
  },
  {
   "cell_type": "code",
   "execution_count": 13,
   "id": "hazardous-chambers",
   "metadata": {},
   "outputs": [
    {
     "name": "stdout",
     "output_type": "stream",
     "text": [
      "65422\n",
      "/data/project/rw/sun360_manmade/aa/pano_aaaapkoyhqmkdh-0.jpg\n"
     ]
    }
   ],
   "source": [
    "datapath = '/data/project/rw/sun360_manmade/*/*.jpg'\n",
    "\n",
    "file_list = glob.glob(datapath)\n",
    "print(len(file_list))\n",
    "print(file_list[0])"
   ]
  },
  {
   "cell_type": "code",
   "execution_count": 22,
   "id": "interested-passing",
   "metadata": {},
   "outputs": [],
   "source": [
    "with open(listpath, 'r') as fh:\n",
    "    annots_all = fh.read().splitlines()\n",
    "annots_all = [l.split(',') for l in annots_all]"
   ]
  },
  {
   "cell_type": "code",
   "execution_count": 23,
   "id": "structural-brooklyn",
   "metadata": {},
   "outputs": [
    {
     "data": {
      "text/plain": [
       "['Alamo/10047400_4909449851_o.jpg',\n",
       " '-5000.0',\n",
       " '17.049646',\n",
       " '5000.0',\n",
       " '-106.34647700000001']"
      ]
     },
     "execution_count": 23,
     "metadata": {},
     "output_type": "execute_result"
    }
   ],
   "source": [
    "annots_all[0]"
   ]
  },
  {
   "cell_type": "code",
   "execution_count": 18,
   "id": "coral-printing",
   "metadata": {},
   "outputs": [
    {
     "name": "stderr",
     "output_type": "stream",
     "text": [
      "100%|██████████| 65422/65422 [06:39<00:00, 163.89it/s]\n"
     ]
    }
   ],
   "source": [
    "for filepath in tqdm(file_list):\n",
    "    linepath = filepath.replace('.jpg', '_line.csv')\n",
    "    if osp.exists(linepath):\n",
    "        continue    \n",
    "    image = cv2.imread(filepath, cv2.IMREAD_GRAYSCALE)\n",
    "    \n",
    "    segs = lsd(image, scale=0.5)\n",
    "    \n",
    "    with open(linepath, 'w', newline='') as fh:\n",
    "        for seg in segs:\n",
    "            fh.write(f'{seg[0]},{seg[1]},{seg[2]},{seg[3]}\\n')   "
   ]
  },
  {
   "cell_type": "code",
   "execution_count": null,
   "id": "miniature-leather",
   "metadata": {},
   "outputs": [],
   "source": []
  }
 ],
 "metadata": {
  "kernelspec": {
   "display_name": "Python 3",
   "language": "python",
   "name": "python3"
  },
  "language_info": {
   "codemirror_mode": {
    "name": "ipython",
    "version": 3
   },
   "file_extension": ".py",
   "mimetype": "text/x-python",
   "name": "python",
   "nbconvert_exporter": "python",
   "pygments_lexer": "ipython3",
   "version": "3.8.3"
  }
 },
 "nbformat": 4,
 "nbformat_minor": 5
}
